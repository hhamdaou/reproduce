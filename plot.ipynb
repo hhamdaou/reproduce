{
 "cells": [
  {
   "cell_type": "code",
   "execution_count": 4,
   "metadata": {},
   "outputs": [
    {
     "name": "stderr",
     "output_type": "stream",
     "text": [
      "/cvmfs/icecube.opensciencegrid.org/py3-v4.1.1/RHEL_7_x86_64/lib/python3.7/site-packages/ipykernel_launcher.py:81: RuntimeWarning: invalid value encountered in log10\n"
     ]
    },
    {
     "name": "stdout",
     "output_type": "stream",
     "text": [
      "NEvents= [1000000. 1000000. 1000000. ... 1000000. 1000000. 1000000.]\n",
      "NFiles= 2000.0\n",
      "number of raw events: 999998\n"
     ]
    }
   ],
   "source": [
    "# %%\n",
    "\n",
    "import numpy as np\n",
    "import matplotlib.pyplot as plt\n",
    "import matplotlib.gridspec as gridspec\n",
    "import math as m\n",
    "import tables\n",
    "from matplotlib.ticker import AutoMinorLocator, MultipleLocator\n",
    "from optparse import OptionParser\n",
    "from matplotlib.colors import LogNorm,Normalize\n",
    "from pylab import *\n",
    "from scipy.interpolate import interp1d, UnivariateSpline\n",
    "import glob\n",
    "\n",
    "# %%\n",
    "name_nu_1 = []\n",
    "\n",
    "\n",
    "# %% add the input file path here\n",
    "#name_nu_1 = glob.glob('/data/user/hhamdaoui/reproduce/NuE_G1.0_E3:7_Z0:180_1_csms_FullnoGR.h5') # my file full sim\n",
    "name_nu_1 = glob.glob('/data/user/hhamdaoui/reproduce/NuTau:NuTauBar_G1.0_E3:7_Z0:180_1_csms_FullnoGR.h5') # my file full sim\n",
    "\n",
    "#name_nu_1 = glob.glob('/data/user/hhamdaoui/reproduce/NuTau_CSMS_1_2.h5') # my file full sim\n",
    "#name_nu_1 = glob.glob('/data/user/hhamdaoui/reproduce/NuTau:NuTauBar_G1.0_E3:7_Z0:180_1_csms_FullnoGR.h5') # my file NuGeN Only\n",
    "\n",
    "### YX files\n",
    "#name_nu_1 = glob.glob('/data/user/joanna/CSecGen-Data/100_v4/nugen_nodetector_nutau_100_50*.h5') #YX file\n",
    "\n",
    "\n",
    "# %%\n",
    "name_nu_1  =name_nu_1[:1]\n",
    "\n",
    "\n",
    "# %%\n",
    "len(name_nu_1)\n",
    "\n",
    "# %%\n",
    "NFiles_nu_1 =  2000.*np.ones(1)\n",
    "\n",
    "# %%\n",
    "\n",
    "\n",
    "pdist = lambda p1, p2 : ((p1[0]-p2[0])**2 + (p1[1]-p2[1])**2 + (p1[2]-p2[2])**2)\n",
    "\n",
    "def weight_cal(f,fit,NFiles,livetime,selfveto):\n",
    "    if fit == 0:\n",
    "        index=-2\n",
    "        norm_astro=1\n",
    "        norm_conv=1\n",
    "        norm_prompt=1\n",
    "    elif fit == 2:\n",
    "        index=-2.67\n",
    "        norm_astro=2.15\n",
    "        norm_conv=0.84\n",
    "        norm_prompt=0.47\n",
    "    elif fit == 1:\n",
    "        index = -2.73\n",
    "        norm_astro=2.2\n",
    "        norm_conv=0.85\n",
    "        norm_prompt=0.3\n",
    "    elif fit == 8:\n",
    "        index = -2.48\n",
    "        norm_astro = 1.61\n",
    "        norm_conv = 1.06\n",
    "        norm_prompt = 1.\n",
    "\n",
    "    OneWeight=f.root.I3MCWeightDict.col('OneWeight')\n",
    "    NEvents=f.root.I3MCWeightDict.col('NEvents')\n",
    "    PrimaryNeutrinoEnergy=f.root.I3MCWeightDict.col('PrimaryNeutrinoEnergy')\n",
    "    print('NEvents=',NEvents)\n",
    "    print('NFiles=',NFiles)\n",
    "\n",
    "    \n",
    "    astro_weight = OneWeight/(NEvents*NFiles)*1.0e-18*np.power(PrimaryNeutrinoEnergy/100000,index)*norm_astro*livetime\n",
    "    return astro_weight\n",
    "\n",
    "\n",
    "class variable:\n",
    "    def __init__(self,f,year,NFiles):\n",
    "        self.f=f\n",
    "        self.xsec = np.log10(f.root.I3MCWeightDict.col('TotalXsectionCGS')*1.0e27) #converting xsec unit from cm^2 to mb\n",
    "        #self.xsec = np.log10(f.root.I3MCWeightDict.col('TotalCrosssectionCGS')*1.0e27) #converting xsec unit from cm^2 to mb #YX files\n",
    "        #self.xsec = np.log10(f.root.I3MCWeightDict.col('TotalXsectionCGS')*1.0e27)\n",
    "        fit = 8\n",
    "        #livetime = 1.0*3600*24*365*5\n",
    "        #livetime = 1.0\n",
    "        livetime = 1.0*(31.04*3600*24+3156904+2820269+2909466+2966167)\n",
    "        #self.weight_wo_sv=weight_cal(self.f,fit,NFiles,livetime,0)\n",
    "        self.weight=weight_cal(self.f,fit,NFiles,livetime,0)\n",
    "\n",
    "\n",
    "        self.zenith = np.cos(f.root.I3MCWeightDict.col('PrimaryNeutrinoZenith'))\n",
    "        #self.inice_primary_energy = np.log10(f.root.cscdSBU_MCInIcePrimary.col('energy')) #YX files\n",
    "        self.inice_primary_energy = np.log10(f.root.I3MCWeightDict.col('PrimaryNeutrinoEnergy'))\n",
    "        self.primary_energy = np.log10(f.root.I3MCWeightDict.col('PrimaryNeutrinoEnergy'))\n",
    "        self.diff = (np.power(10,self.primary_energy)-np.power(10,self.inice_primary_energy))/np.power(10,self.primary_energy)*100.0\n",
    "        #self.prop=f.root.I3MCWeightDict.col('TotalPropagationProbability')\n",
    "        #self.prop=f.root.I3MCWeightDict.col('PropagationWeight')\n",
    "        #self.type= f.root.I3MCWeightDict.col('PrimaryNeutrinoType')\n",
    "        #self.inter_type = f.root.I3MCWeightDict.col('InteractionType')\n",
    "        #self.energy = np.log10(f.root.I3MCWeightDict.col('PrimaryNeutrinoEnergy'))\n",
    "    \n",
    "\n",
    "def selection(sample):\n",
    "    #idx = sample.zenith > -100\n",
    "    idx = np.isfinite(sample.xsec)\n",
    "    idx = np.logical_and(idx,np.logical_not(np.isnan(sample.zenith)))\n",
    "    idx = np.logical_and(idx,np.logical_not(np.isnan(sample.primary_energy)))\n",
    "    idx = np.logical_and(idx,np.logical_not(np.isnan(sample.inice_primary_energy)))\n",
    "    idx = np.logical_and(idx,np.logical_not(np.isnan(sample.weight)))\n",
    "    return idx\n",
    "\n",
    "\n",
    "seperation = 0.\n",
    "\n",
    "function = selection\n",
    "\n",
    "nu_1_inice=[]\n",
    "nu_1_zenith=[]\n",
    "nu_1_weight=[]\n",
    "nu_1_diff=[]\n",
    "nu_1_prim=[]\n",
    "nu_1_xsec=[]\n",
    "\n",
    "\n",
    "\n",
    "for file, nfiles in zip(name_nu_1,NFiles_nu_1):\n",
    "    file_nu = tables.open_file(file)\n",
    "    v_nu = variable(file_nu,2011,nfiles)\n",
    "    idx_nu = function(v_nu)\n",
    "    nu_1_inice = np.concatenate((nu_1_inice,v_nu.inice_primary_energy[idx_nu]))\n",
    "    nu_1_zenith = np.concatenate((nu_1_zenith,v_nu.zenith[idx_nu]))\n",
    "    nu_1_weight = np.concatenate((nu_1_weight,v_nu.weight[idx_nu]))\n",
    "    nu_1_diff = np.concatenate((nu_1_diff,v_nu.diff[idx_nu]))\n",
    "    nu_1_prim = np.concatenate((nu_1_prim,v_nu.primary_energy[idx_nu]))\n",
    "    nu_1_xsec = np.concatenate((nu_1_xsec,v_nu.xsec[idx_nu]))\n",
    "    file_nu.close()\n",
    "\n",
    "# %%\n",
    "print('number of raw events:',len(nu_1_zenith))\n",
    "idx_nu_1_up = nu_1_zenith<seperation\n",
    "idx_nu_1_down = nu_1_zenith>=seperation\n",
    "\n",
    "inice_1_up = nu_1_inice[idx_nu_1_up]\n",
    "inice_1_down = nu_1_inice[idx_nu_1_down]\n",
    "\n",
    "weight_1_up = nu_1_weight[idx_nu_1_up]\n",
    "weight_1_down = nu_1_weight[idx_nu_1_down]\n",
    "\n",
    "xsec_1_up = nu_1_xsec[idx_nu_1_up]\n",
    "xsec_1_down = nu_1_xsec[idx_nu_1_down]\n",
    "\n",
    "diff_1_up = nu_1_diff[idx_nu_1_up]\n",
    "diff_1_down = nu_1_diff[idx_nu_1_down]\n",
    "\n",
    "\n",
    "prim_1_up = nu_1_prim[idx_nu_1_up]\n",
    "prim_1_down = nu_1_prim[idx_nu_1_down]\n",
    "\n",
    "\n"
   ]
  },
  {
   "cell_type": "code",
   "execution_count": 25,
   "metadata": {},
   "outputs": [
    {
     "data": {
      "text/plain": [
       "499745"
      ]
     },
     "execution_count": 25,
     "metadata": {},
     "output_type": "execute_result"
    }
   ],
   "source": [
    "len(prim_1_down)"
   ]
  },
  {
   "cell_type": "code",
   "execution_count": 5,
   "metadata": {},
   "outputs": [],
   "source": [
    "import matplotlib.pyplot as plt\n"
   ]
  },
  {
   "cell_type": "code",
   "execution_count": 6,
   "metadata": {},
   "outputs": [
    {
     "data": {
      "image/png": "[encoded data removed]",
      "text/plain": [
       "<Figure size 432x288 with 1 Axes>"
      ]
     },
     "metadata": {
      "needs_background": "light"
     },
     "output_type": "display_data"
    },
    {
     "data": {
      "image/png": "[encoded data removed]",
      "text/plain": [
       "<Figure size 432x288 with 1 Axes>"
      ]
     },
     "metadata": {
      "needs_background": "light"
     },
     "output_type": "display_data"
    },
    {
     "data": {
      "text/plain": [
       "<Figure size 432x288 with 0 Axes>"
      ]
     },
     "metadata": {},
     "output_type": "display_data"
    }
   ],
   "source": [
    "plt.hist(prim_1_up,weights=weight_1_up,bins=30,histtype='step',label='up')\n",
    "plt.hist(prim_1_down,weights=weight_1_down,bins=30,histtype='step',label='down')\n",
    "plt.legend() \n",
    "plt.yscale('log')\n",
    "plt.xlabel('MCPrimaryEnergy')\n",
    "plt.ylabel(r'Event[$livetime^{-1}$]')\n",
    "\n",
    "plt.show()\n",
    "plt.savefig('Nutau_Energy_csms_1.png')\n",
    "plt.close()\n",
    "plt.hist(nu_1_zenith,weights=nu_1_weight,histtype='step',label='zenith')\n",
    "plt.legend()\n",
    "plt.xlabel('MCPrimaryZenith_csms_02')\n",
    "plt.ylabel(r'Event[$livetime^{-1}$]')\n",
    "plt.show()\n",
    "plt.savefig('Nutau_Zenith_csms_1.png')"
   ]
  },
  {
   "cell_type": "code",
   "execution_count": 37,
   "metadata": {},
   "outputs": [],
   "source": [
    "import matplotlib.pyplot as plt  # type: ignore\n",
    "import numpy as np  # type: ignore\n",
    "def histerror(x,w,nbins,histtitle,c):\n",
    "    data = x\n",
    "    weights = w\n",
    "    entries, bin_edges = np.histogram(data,weights=w,bins=nbins)\n",
    "\n",
    "    #bin_edges = [0.0, 2.5, 5.0, 7.5, 10.0]\n",
    "\n",
    "    bin_y, _, bars = plt.hist(data, bins=bin_edges, weights=weights,histtype='step',label=histtitle,color=c)\n",
    "    #print(f\"bin_y {bin_y}\")\n",
    "    #print(f\"bin_edges {bin_edges}\")\n",
    "\n",
    "    errors = []\n",
    "    bin_centers = []\n",
    "\n",
    "    for bin_index in range(len(bin_edges) - 1):\n",
    "        # find which data points are inside this bin\n",
    "        bin_left = bin_edges[bin_index]\n",
    "        bin_right = bin_edges[bin_index + 1]\n",
    "        in_bin = np.logical_and(bin_left < data, data <= bin_right)\n",
    "        #print(f\"in_bin {in_bin}\")\n",
    "\n",
    "        # filter the weights to only those inside the bin\n",
    "        weights_in_bin = weights[in_bin]\n",
    "        #print(f\"weights_in_bin {weights_in_bin}\")\n",
    "\n",
    "        # compute the error however you want\n",
    "        error = np.sqrt(np.sum(weights_in_bin ** 2))\n",
    "        errors.append(error)\n",
    "        #print(f\"error {error}\")\n",
    "        # save the center of the bins to plot the errorbar in the right place\n",
    "        bin_center = (bin_right + bin_left) / 2\n",
    "        bin_centers.append(bin_center)\n",
    "        #print(f\"bin_center {bin_center}\")\n",
    "\n",
    "    # plot the error bars\n",
    "    #len(bin_centers)\n",
    "    plt.errorbar(bin_centers, bin_y, yerr=errors,color=c, capsize=3 ,linestyle=\"none\")\n",
    "    plt.legend()\n"
   ]
  },
  {
   "cell_type": "code",
   "execution_count": 48,
   "metadata": {},
   "outputs": [
    {
     "data": {
      "image/png": "[encoded data removed]",
      "text/plain": [
       "<Figure size 640x480 with 1 Axes>"
      ]
     },
     "metadata": {
      "needs_background": "light"
     },
     "output_type": "display_data"
    }
   ],
   "source": [
    "from matplotlib.pyplot import figure\n",
    "\n",
    "figure(figsize=(8, 6), dpi=80)\n",
    "histerror(prim_1_up,weight_1_up,6,'up','red')\n",
    "histerror(prim_1_down,weight_1_down,6,'down','black')\n",
    "\n",
    "plt.ylabel(r'$\\rm Event\\ [livetime^{-1}]$')\n",
    "plt.xlabel('MCPrimaryEnergy')\n",
    "plt.yscale('log')\n"
   ]
  },
  {
   "cell_type": "code",
   "execution_count": null,
   "metadata": {},
   "outputs": [],
   "source": [
    "/data/user/hhamdaoui/reproduce/NuTau:NuTauBar_G1.0_E3:7_Z0:180_1_csms_020_FullnoGR.h5"
   ]
  }
 ],
 "metadata": {
  "kernelspec": {
   "display_name": "Python 3.7.5 ('NNMFit')",
   "language": "python",
   "name": "python3"
  },
  "language_info": {
   "codemirror_mode": {
    "name": "ipython",
    "version": 3
   },
   "file_extension": ".py",
   "mimetype": "text/x-python",
   "name": "python",
   "nbconvert_exporter": "python",
   "pygments_lexer": "ipython3",
   "version": "3.7.5"
  },
  "orig_nbformat": 4,
  "vscode": {
   "interpreter": {
    "hash": "f440e24f7aa9dd74f022b704521e3a668bb6df8ed8f6b4eddbf10f71866dd591"
   }
  }
 },
 "nbformat": 4,
 "nbformat_minor": 2
}
